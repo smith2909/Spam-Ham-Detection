{
 "cells": [
  {
   "cell_type": "markdown",
   "id": "following-nightmare",
   "metadata": {
    "papermill": {
     "duration": 0.018772,
     "end_time": "2021-06-25T11:55:15.763834",
     "exception": false,
     "start_time": "2021-06-25T11:55:15.745062",
     "status": "completed"
    },
    "tags": []
   },
   "source": [
    "# Spam Email Classification Model"
   ]
  },
  {
   "cell_type": "code",
   "execution_count": 1,
   "id": "north-stability",
   "metadata": {
    "_cell_guid": "b1076dfc-b9ad-4769-8c92-a6c4dae69d19",
    "_uuid": "8f2839f25d086af736a60e9eeb907d3b93b6e0e5",
    "execution": {
     "iopub.execute_input": "2021-06-25T11:55:15.804389Z",
     "iopub.status.busy": "2021-06-25T11:55:15.803191Z",
     "iopub.status.idle": "2021-06-25T11:55:17.489800Z",
     "shell.execute_reply": "2021-06-25T11:55:17.489111Z",
     "shell.execute_reply.started": "2021-06-25T11:39:23.538391Z"
    },
    "papermill": {
     "duration": 1.711008,
     "end_time": "2021-06-25T11:55:17.489931",
     "exception": false,
     "start_time": "2021-06-25T11:55:15.778923",
     "status": "completed"
    },
    "tags": []
   },
   "outputs": [],
   "source": [
    "# importing system libraries\n",
    "\n",
    "from os import walk\n",
    "from string import punctuation\n",
    "from random import shuffle\n",
    "from collections import Counter\n",
    "\n",
    "# importing additional libraries\n",
    "\n",
    "import pandas as pd\n",
    "import sklearn as sk\n",
    "import nltk"
   ]
  },
  {
   "cell_type": "code",
   "execution_count": 2,
   "id": "tough-edwards",
   "metadata": {
    "execution": {
     "iopub.execute_input": "2021-06-25T11:55:17.536078Z",
     "iopub.status.busy": "2021-06-25T11:55:17.534678Z",
     "iopub.status.idle": "2021-06-25T11:59:36.380330Z",
     "shell.execute_reply": "2021-06-25T11:59:36.379218Z",
     "shell.execute_reply.started": "2021-06-25T09:57:04.007426Z"
    },
    "papermill": {
     "duration": 258.869402,
     "end_time": "2021-06-25T11:59:36.380505",
     "exception": false,
     "start_time": "2021-06-25T11:55:17.511103",
     "status": "completed"
    },
    "tags": []
   },
   "outputs": [],
   "source": [
    "# Read the whole data from the Enron Dataset into a variable allData.\n",
    "\n",
    "pathwalk = walk(r\"/kaggle/input/enron-spam/\")\n",
    "\n",
    "allHamData, allSpamData = [], []\n",
    "for root, dr, file in pathwalk:\n",
    "    if 'ham' in str(file):\n",
    "        for obj in file:\n",
    "            with open(root + '/' + obj, encoding='latin1') as ip:\n",
    "                allHamData.append(\" \".join(ip.readlines()))\n",
    "                \n",
    "    elif 'spam' in str(file):\n",
    "        for obj in file:\n",
    "            with open(root + '/' + obj, encoding='latin1') as ip:\n",
    "                allSpamData.append(\" \".join(ip.readlines()))"
   ]
  },
  {
   "cell_type": "code",
   "execution_count": 3,
   "id": "fourth-halifax",
   "metadata": {
    "execution": {
     "iopub.execute_input": "2021-06-25T11:59:36.450566Z",
     "iopub.status.busy": "2021-06-25T11:59:36.449840Z",
     "iopub.status.idle": "2021-06-25T11:59:36.451866Z",
     "shell.execute_reply": "2021-06-25T11:59:36.452210Z",
     "shell.execute_reply.started": "2021-06-25T09:58:53.198658Z"
    },
    "papermill": {
     "duration": 0.056356,
     "end_time": "2021-06-25T11:59:36.452375",
     "exception": false,
     "start_time": "2021-06-25T11:59:36.396019",
     "status": "completed"
    },
    "tags": []
   },
   "outputs": [],
   "source": [
    "# remove all redundent data\n",
    "\n",
    "allHamData = list(set(allHamData))\n",
    "allSpamData = list(set(allSpamData))"
   ]
  },
  {
   "cell_type": "code",
   "execution_count": 4,
   "id": "offshore-trunk",
   "metadata": {
    "execution": {
     "iopub.execute_input": "2021-06-25T11:59:36.496774Z",
     "iopub.status.busy": "2021-06-25T11:59:36.489394Z",
     "iopub.status.idle": "2021-06-25T11:59:36.503548Z",
     "shell.execute_reply": "2021-06-25T11:59:36.503068Z",
     "shell.execute_reply.started": "2021-06-25T10:22:41.969623Z"
    },
    "papermill": {
     "duration": 0.036406,
     "end_time": "2021-06-25T11:59:36.503664",
     "exception": false,
     "start_time": "2021-06-25T11:59:36.467258",
     "status": "completed"
    },
    "tags": []
   },
   "outputs": [],
   "source": [
    "# storing it in a dataframe\n",
    "\n",
    "hamPlusSpamData = allHamData + allSpamData\n",
    "labels = [\"ham\"]*len(allHamData) + [\"spam\"]*len(allSpamData)\n",
    "\n",
    "raw_df = pd.DataFrame({\"email\": hamPlusSpamData, \n",
    "                       \"label\": labels})"
   ]
  },
  {
   "cell_type": "code",
   "execution_count": 5,
   "id": "neither-bradford",
   "metadata": {
    "execution": {
     "iopub.execute_input": "2021-06-25T11:59:36.548349Z",
     "iopub.status.busy": "2021-06-25T11:59:36.547842Z",
     "iopub.status.idle": "2021-06-25T11:59:36.563601Z",
     "shell.execute_reply": "2021-06-25T11:59:36.563137Z",
     "shell.execute_reply.started": "2021-06-25T11:19:59.116054Z"
    },
    "papermill": {
     "duration": 0.044943,
     "end_time": "2021-06-25T11:59:36.563723",
     "exception": false,
     "start_time": "2021-06-25T11:59:36.518780",
     "status": "completed"
    },
    "tags": []
   },
   "outputs": [
    {
     "data": {
      "text/html": [
       "<div>\n",
       "<style scoped>\n",
       "    .dataframe tbody tr th:only-of-type {\n",
       "        vertical-align: middle;\n",
       "    }\n",
       "\n",
       "    .dataframe tbody tr th {\n",
       "        vertical-align: top;\n",
       "    }\n",
       "\n",
       "    .dataframe thead th {\n",
       "        text-align: right;\n",
       "    }\n",
       "</style>\n",
       "<table border=\"1\" class=\"dataframe\">\n",
       "  <thead>\n",
       "    <tr style=\"text-align: right;\">\n",
       "      <th></th>\n",
       "      <th>email</th>\n",
       "      <th>label</th>\n",
       "    </tr>\n",
       "  </thead>\n",
       "  <tbody>\n",
       "    <tr>\n",
       "      <th>5171</th>\n",
       "      <td>Subject: fw : steve vavrik\\n do you remember s...</td>\n",
       "      <td>ham</td>\n",
       "    </tr>\n",
       "    <tr>\n",
       "      <th>12595</th>\n",
       "      <td>Subject: re : netco hr team\\n i think it is a ...</td>\n",
       "      <td>ham</td>\n",
       "    </tr>\n",
       "    <tr>\n",
       "      <th>18861</th>\n",
       "      <td>Subject: special offers - various\\n today ' s ...</td>\n",
       "      <td>spam</td>\n",
       "    </tr>\n",
       "    <tr>\n",
       "      <th>28067</th>\n",
       "      <td>Subject: save with us rafael\\n swiss pharmacy ...</td>\n",
       "      <td>spam</td>\n",
       "    </tr>\n",
       "    <tr>\n",
       "      <th>13555</th>\n",
       "      <td>Subject: var training\\n sally ,\\n i ' ve confi...</td>\n",
       "      <td>ham</td>\n",
       "    </tr>\n",
       "  </tbody>\n",
       "</table>\n",
       "</div>"
      ],
      "text/plain": [
       "                                                   email label\n",
       "5171   Subject: fw : steve vavrik\\n do you remember s...   ham\n",
       "12595  Subject: re : netco hr team\\n i think it is a ...   ham\n",
       "18861  Subject: special offers - various\\n today ' s ...  spam\n",
       "28067  Subject: save with us rafael\\n swiss pharmacy ...  spam\n",
       "13555  Subject: var training\\n sally ,\\n i ' ve confi...   ham"
      ]
     },
     "execution_count": 5,
     "metadata": {},
     "output_type": "execute_result"
    }
   ],
   "source": [
    "# checking how it looks\n",
    "\n",
    "raw_df.sample(5)"
   ]
  },
  {
   "cell_type": "code",
   "execution_count": 6,
   "id": "wicked-metabolism",
   "metadata": {
    "execution": {
     "iopub.execute_input": "2021-06-25T11:59:36.601216Z",
     "iopub.status.busy": "2021-06-25T11:59:36.600693Z",
     "iopub.status.idle": "2021-06-25T11:59:36.872469Z",
     "shell.execute_reply": "2021-06-25T11:59:36.871916Z",
     "shell.execute_reply.started": "2021-06-25T11:13:28.017954Z"
    },
    "papermill": {
     "duration": 0.292912,
     "end_time": "2021-06-25T11:59:36.872584",
     "exception": false,
     "start_time": "2021-06-25T11:59:36.579672",
     "status": "completed"
    },
    "tags": []
   },
   "outputs": [
    {
     "data": {
      "text/plain": [
       "<AxesSubplot:>"
      ]
     },
     "execution_count": 6,
     "metadata": {},
     "output_type": "execute_result"
    },
    {
     "data": {
      "image/png": "[encoded data removed]",
      "text/plain": [
       "<Figure size 432x288 with 1 Axes>"
      ]
     },
     "metadata": {
      "needs_background": "light"
     },
     "output_type": "display_data"
    }
   ],
   "source": [
    "# get an overview of the data\n",
    "\n",
    "raw_df.label.hist(bins=3)"
   ]
  },
  {
   "cell_type": "markdown",
   "id": "productive-scheduling",
   "metadata": {
    "papermill": {
     "duration": 0.01571,
     "end_time": "2021-06-25T11:59:36.904309",
     "exception": false,
     "start_time": "2021-06-25T11:59:36.888599",
     "status": "completed"
    },
    "tags": []
   },
   "source": [
    "# NLTK's Naive Bayes Classifier\n",
    "### with custom text pre-processor using NLTK's word_tokenize and WordNetLemmatizer"
   ]
  },
  {
   "cell_type": "code",
   "execution_count": 7,
   "id": "scientific-violence",
   "metadata": {
    "execution": {
     "iopub.execute_input": "2021-06-25T11:59:36.942234Z",
     "iopub.status.busy": "2021-06-25T11:59:36.941764Z",
     "iopub.status.idle": "2021-06-25T11:59:36.944924Z",
     "shell.execute_reply": "2021-06-25T11:59:36.944460Z",
     "shell.execute_reply.started": "2021-06-25T10:22:54.335272Z"
    },
    "papermill": {
     "duration": 0.024807,
     "end_time": "2021-06-25T11:59:36.945029",
     "exception": false,
     "start_time": "2021-06-25T11:59:36.920222",
     "status": "completed"
    },
    "tags": []
   },
   "outputs": [],
   "source": [
    "# creating a preprocessing function\n",
    "# to tokenize and lemmatize the data using NLTK library\n",
    "\n",
    "def preprocess(data):\n",
    "    # tokenization\n",
    "    tokens = nltk.word_tokenize(data)\n",
    "    tokens = [w.lower() for w in tokens if w.isalpha()]\n",
    "\n",
    "    # finding uncommon words\n",
    "    cnt = Counter(tokens)\n",
    "    uncommons = cnt.most_common()[:-int(len(cnt)*0.1):-1]\n",
    "    \n",
    "    # listing stopwords from NLTK\n",
    "    stops = set(nltk.corpus.stopwords.words('english'))\n",
    "\n",
    "    # removing stop words and uncommon words\n",
    "    tokens = [w for w in tokens if (w not in stops and w not in uncommons)]\n",
    "\n",
    "    # lemmatization\n",
    "    lemmatizer = nltk.WordNetLemmatizer()\n",
    "    tokens = [lemmatizer.lemmatize(w, pos='a') for w in tokens]\n",
    "\n",
    "    return tokens"
   ]
  },
  {
   "cell_type": "code",
   "execution_count": 8,
   "id": "thorough-contemporary",
   "metadata": {
    "execution": {
     "iopub.execute_input": "2021-06-25T11:59:36.982478Z",
     "iopub.status.busy": "2021-06-25T11:59:36.981986Z",
     "iopub.status.idle": "2021-06-25T12:01:10.816149Z",
     "shell.execute_reply": "2021-06-25T12:01:10.815514Z",
     "shell.execute_reply.started": "2021-06-25T11:15:50.469552Z"
    },
    "papermill": {
     "duration": 93.855026,
     "end_time": "2021-06-25T12:01:10.816275",
     "exception": false,
     "start_time": "2021-06-25T11:59:36.961249",
     "status": "completed"
    },
    "tags": []
   },
   "outputs": [],
   "source": [
    "# pre-processing the emails\n",
    "# using word_tokenize() and WordNetLemmatizer()\n",
    "\n",
    "nltk_processed_df = pd.DataFrame()\n",
    "nltk_processed_df['email'] = [preprocess(e) for e in raw_df.email]"
   ]
  },
  {
   "cell_type": "code",
   "execution_count": 9,
   "id": "sitting-pregnancy",
   "metadata": {
    "execution": {
     "iopub.execute_input": "2021-06-25T12:01:10.861116Z",
     "iopub.status.busy": "2021-06-25T12:01:10.860484Z",
     "iopub.status.idle": "2021-06-25T12:01:10.863605Z",
     "shell.execute_reply": "2021-06-25T12:01:10.863992Z",
     "shell.execute_reply.started": "2021-06-25T11:17:29.950544Z"
    },
    "papermill": {
     "duration": 0.030956,
     "end_time": "2021-06-25T12:01:10.864141",
     "exception": false,
     "start_time": "2021-06-25T12:01:10.833185",
     "status": "completed"
    },
    "tags": []
   },
   "outputs": [],
   "source": [
    "# label encoding the labels\n",
    "\n",
    "label_encoder = sk.preprocessing.LabelEncoder()\n",
    "nltk_processed_df['label'] = label_encoder.fit_transform(raw_df.label)"
   ]
  },
  {
   "cell_type": "code",
   "execution_count": 10,
   "id": "living-leather",
   "metadata": {
    "execution": {
     "iopub.execute_input": "2021-06-25T12:01:10.911714Z",
     "iopub.status.busy": "2021-06-25T12:01:10.911049Z",
     "iopub.status.idle": "2021-06-25T12:01:10.915029Z",
     "shell.execute_reply": "2021-06-25T12:01:10.914648Z",
     "shell.execute_reply.started": "2021-06-25T11:17:29.966842Z"
    },
    "papermill": {
     "duration": 0.034151,
     "end_time": "2021-06-25T12:01:10.915139",
     "exception": false,
     "start_time": "2021-06-25T12:01:10.880988",
     "status": "completed"
    },
    "tags": []
   },
   "outputs": [
    {
     "data": {
      "text/html": [
       "<div>\n",
       "<style scoped>\n",
       "    .dataframe tbody tr th:only-of-type {\n",
       "        vertical-align: middle;\n",
       "    }\n",
       "\n",
       "    .dataframe tbody tr th {\n",
       "        vertical-align: top;\n",
       "    }\n",
       "\n",
       "    .dataframe thead th {\n",
       "        text-align: right;\n",
       "    }\n",
       "</style>\n",
       "<table border=\"1\" class=\"dataframe\">\n",
       "  <thead>\n",
       "    <tr style=\"text-align: right;\">\n",
       "      <th></th>\n",
       "      <th>email</th>\n",
       "      <th>label</th>\n",
       "    </tr>\n",
       "  </thead>\n",
       "  <tbody>\n",
       "    <tr>\n",
       "      <th>23180</th>\n",
       "      <td>[subject, changes, prescription, changes, pres...</td>\n",
       "      <td>1</td>\n",
       "    </tr>\n",
       "    <tr>\n",
       "      <th>23322</th>\n",
       "      <td>[subject, bite, notification, alert, thank, in...</td>\n",
       "      <td>1</td>\n",
       "    </tr>\n",
       "    <tr>\n",
       "      <th>9419</th>\n",
       "      <td>[subject, information, expect, agreement, abb,...</td>\n",
       "      <td>0</td>\n",
       "    </tr>\n",
       "    <tr>\n",
       "      <th>20762</th>\n",
       "      <td>[subject, get, weariness, depression, control,...</td>\n",
       "      <td>1</td>\n",
       "    </tr>\n",
       "    <tr>\n",
       "      <th>16403</th>\n",
       "      <td>[subject, important, medical, announcement, im...</td>\n",
       "      <td>1</td>\n",
       "    </tr>\n",
       "  </tbody>\n",
       "</table>\n",
       "</div>"
      ],
      "text/plain": [
       "                                                   email  label\n",
       "23180  [subject, changes, prescription, changes, pres...      1\n",
       "23322  [subject, bite, notification, alert, thank, in...      1\n",
       "9419   [subject, information, expect, agreement, abb,...      0\n",
       "20762  [subject, get, weariness, depression, control,...      1\n",
       "16403  [subject, important, medical, announcement, im...      1"
      ]
     },
     "execution_count": 10,
     "metadata": {},
     "output_type": "execute_result"
    }
   ],
   "source": [
    "# checking how the processed data looks like\n",
    "\n",
    "nltk_processed_df.sample(5)"
   ]
  },
  {
   "cell_type": "code",
   "execution_count": 11,
   "id": "imported-bedroom",
   "metadata": {
    "execution": {
     "iopub.execute_input": "2021-06-25T12:01:10.968898Z",
     "iopub.status.busy": "2021-06-25T12:01:10.963176Z",
     "iopub.status.idle": "2021-06-25T12:01:11.459520Z",
     "shell.execute_reply": "2021-06-25T12:01:11.459069Z",
     "shell.execute_reply.started": "2021-06-25T11:17:29.992049Z"
    },
    "papermill": {
     "duration": 0.527774,
     "end_time": "2021-06-25T12:01:11.459642",
     "exception": false,
     "start_time": "2021-06-25T12:01:10.931868",
     "status": "completed"
    },
    "tags": []
   },
   "outputs": [],
   "source": [
    "# converting categorical email data to numerical data using Counters\n",
    "\n",
    "X, y = nltk_processed_df.email, nltk_processed_df.label\n",
    "X_featurized = [Counter(i) for i in X]"
   ]
  },
  {
   "cell_type": "code",
   "execution_count": 12,
   "id": "worthy-snapshot",
   "metadata": {
    "execution": {
     "iopub.execute_input": "2021-06-25T12:01:11.508173Z",
     "iopub.status.busy": "2021-06-25T12:01:11.502626Z",
     "iopub.status.idle": "2021-06-25T12:01:11.647169Z",
     "shell.execute_reply": "2021-06-25T12:01:11.646646Z",
     "shell.execute_reply.started": "2021-06-25T11:17:30.667842Z"
    },
    "papermill": {
     "duration": 0.170092,
     "end_time": "2021-06-25T12:01:11.647283",
     "exception": false,
     "start_time": "2021-06-25T12:01:11.477191",
     "status": "completed"
    },
    "tags": []
   },
   "outputs": [],
   "source": [
    "# getting the data ready for NaiveBayesClassifier \n",
    "# randomizing using shuffle\n",
    "# manually splitting into test and train data\n",
    "\n",
    "allDataProcessed = [(X_featurized[i], y[i]) for i in range(len(X))]\n",
    "\n",
    "shuffle(allDataProcessed)\n",
    "\n",
    "trainData, testData = allDataProcessed[:int(len(allDataProcessed)*0.7)], allDataProcessed[int(len(allDataProcessed)*0.7):]"
   ]
  },
  {
   "cell_type": "code",
   "execution_count": 13,
   "id": "final-overview",
   "metadata": {
    "execution": {
     "iopub.execute_input": "2021-06-25T12:01:11.695870Z",
     "iopub.status.busy": "2021-06-25T12:01:11.689586Z",
     "iopub.status.idle": "2021-06-25T12:01:19.781733Z",
     "shell.execute_reply": "2021-06-25T12:01:19.782237Z",
     "shell.execute_reply.started": "2021-06-25T11:17:32.440046Z"
    },
    "papermill": {
     "duration": 8.118232,
     "end_time": "2021-06-25T12:01:19.782431",
     "exception": false,
     "start_time": "2021-06-25T12:01:11.664199",
     "status": "completed"
    },
    "tags": []
   },
   "outputs": [],
   "source": [
    "# Training the model\n",
    "\n",
    "model_nltkNaiveBayes = nltk.classify.NaiveBayesClassifier.train(trainData)"
   ]
  },
  {
   "cell_type": "code",
   "execution_count": 14,
   "id": "active-bosnia",
   "metadata": {
    "execution": {
     "iopub.execute_input": "2021-06-25T12:01:19.845283Z",
     "iopub.status.busy": "2021-06-25T12:01:19.839860Z",
     "iopub.status.idle": "2021-06-25T12:01:24.047889Z",
     "shell.execute_reply": "2021-06-25T12:01:24.047321Z",
     "shell.execute_reply.started": "2021-06-25T11:17:41.485859Z"
    },
    "papermill": {
     "duration": 4.241004,
     "end_time": "2021-06-25T12:01:24.048024",
     "exception": false,
     "start_time": "2021-06-25T12:01:19.807020",
     "status": "completed"
    },
    "tags": []
   },
   "outputs": [
    {
     "name": "stdout",
     "output_type": "stream",
     "text": [
      "Accuracy with NLTK's Naive Bayes classifier is: 0.9892872759073021\n"
     ]
    }
   ],
   "source": [
    "# Testing the model\n",
    "\n",
    "testing_accuracy = nltk.classify.accuracy(model_nltkNaiveBayes, testData)\n",
    "print(\"Accuracy with NLTK's Naive Bayes classifier is:\", testing_accuracy)"
   ]
  },
  {
   "cell_type": "markdown",
   "id": "current-strengthening",
   "metadata": {
    "papermill": {
     "duration": 0.024519,
     "end_time": "2021-06-25T12:01:24.098835",
     "exception": false,
     "start_time": "2021-06-25T12:01:24.074316",
     "status": "completed"
    },
    "tags": []
   },
   "source": [
    "# Scikit-learn's Multinomial Naive Bayes Classifier\n",
    "### with CountVectorizer and TfidfVectorizer comparison"
   ]
  },
  {
   "cell_type": "code",
   "execution_count": 15,
   "id": "bulgarian-equipment",
   "metadata": {
    "execution": {
     "iopub.execute_input": "2021-06-25T12:01:24.158945Z",
     "iopub.status.busy": "2021-06-25T12:01:24.153493Z",
     "iopub.status.idle": "2021-06-25T12:02:35.460995Z",
     "shell.execute_reply": "2021-06-25T12:02:35.459406Z",
     "shell.execute_reply.started": "2021-06-25T11:21:41.649870Z"
    },
    "papermill": {
     "duration": 71.336952,
     "end_time": "2021-06-25T12:02:35.461165",
     "exception": false,
     "start_time": "2021-06-25T12:01:24.124213",
     "status": "completed"
    },
    "tags": []
   },
   "outputs": [
    {
     "name": "stderr",
     "output_type": "stream",
     "text": [
      "/opt/conda/lib/python3.7/site-packages/sklearn/feature_extraction/text.py:391: UserWarning: Your stop_words may be inconsistent with your preprocessing. Tokenizing the stop words generated tokens [\"'d\", \"'ll\", \"'re\", \"'s\", \"'ve\", 'could', 'might', 'must', \"n't\", 'need', 'sha', 'wo', 'would'] not in stop_words.\n",
      "  'stop_words.' % sorted(inconsistent))\n"
     ]
    }
   ],
   "source": [
    "# Vectorize the features using CountVectorizer\n",
    "\n",
    "cv_vec = sk.feature_extraction.text.CountVectorizer(tokenizer = nltk.word_tokenize, \n",
    "                                                    stop_words = nltk.corpus.stopwords.words(\"english\"))\n",
    "\n",
    "cv_X = cv_vec.fit_transform(raw_df.email)"
   ]
  },
  {
   "cell_type": "code",
   "execution_count": 16,
   "id": "restricted-interaction",
   "metadata": {
    "execution": {
     "iopub.execute_input": "2021-06-25T12:02:35.504083Z",
     "iopub.status.busy": "2021-06-25T12:02:35.503411Z",
     "iopub.status.idle": "2021-06-25T12:04:06.665785Z",
     "shell.execute_reply": "2021-06-25T12:04:06.665055Z",
     "shell.execute_reply.started": "2021-06-25T11:23:14.544576Z"
    },
    "papermill": {
     "duration": 91.185013,
     "end_time": "2021-06-25T12:04:06.665945",
     "exception": false,
     "start_time": "2021-06-25T12:02:35.480932",
     "status": "completed"
    },
    "tags": []
   },
   "outputs": [],
   "source": [
    "# Vectorize the features using TfidfVectorizer\n",
    "\n",
    "tfidf_vec = sk.feature_extraction.text.TfidfVectorizer(tokenizer = nltk.word_tokenize, \n",
    "                                                    stop_words = nltk.corpus.stopwords.words(\"english\"))\n",
    "\n",
    "tdidf_X = cv_vec.fit_transform(raw_df.email)"
   ]
  },
  {
   "cell_type": "code",
   "execution_count": 17,
   "id": "peripheral-skill",
   "metadata": {
    "execution": {
     "iopub.execute_input": "2021-06-25T12:04:06.727972Z",
     "iopub.status.busy": "2021-06-25T12:04:06.726848Z",
     "iopub.status.idle": "2021-06-25T12:04:06.730154Z",
     "shell.execute_reply": "2021-06-25T12:04:06.729488Z",
     "shell.execute_reply.started": "2021-06-25T11:38:41.945268Z"
    },
    "papermill": {
     "duration": 0.038874,
     "end_time": "2021-06-25T12:04:06.730310",
     "exception": false,
     "start_time": "2021-06-25T12:04:06.691436",
     "status": "completed"
    },
    "tags": []
   },
   "outputs": [],
   "source": [
    "# label encode the labels using LabelEncoder\n",
    "\n",
    "label_encoder = sk.preprocessing.LabelEncoder()\n",
    "y = label_encoder.fit_transform(raw_df.label)"
   ]
  },
  {
   "cell_type": "code",
   "execution_count": 18,
   "id": "bound-consumer",
   "metadata": {
    "execution": {
     "iopub.execute_input": "2021-06-25T12:04:06.787127Z",
     "iopub.status.busy": "2021-06-25T12:04:06.786602Z",
     "iopub.status.idle": "2021-06-25T12:04:06.794264Z",
     "shell.execute_reply": "2021-06-25T12:04:06.793721Z",
     "shell.execute_reply.started": "2021-06-25T11:40:10.218476Z"
    },
    "papermill": {
     "duration": 0.037566,
     "end_time": "2021-06-25T12:04:06.794447",
     "exception": false,
     "start_time": "2021-06-25T12:04:06.756881",
     "status": "completed"
    },
    "tags": []
   },
   "outputs": [],
   "source": [
    "# loading the MultinomialNB model\n",
    "\n",
    "from sklearn.naive_bayes import MultinomialNB\n",
    "model_sklearn_mnb = MultinomialNB()"
   ]
  },
  {
   "cell_type": "code",
   "execution_count": 19,
   "id": "short-resolution",
   "metadata": {
    "execution": {
     "iopub.execute_input": "2021-06-25T12:04:06.850820Z",
     "iopub.status.busy": "2021-06-25T12:04:06.850114Z",
     "iopub.status.idle": "2021-06-25T12:04:07.304575Z",
     "shell.execute_reply": "2021-06-25T12:04:07.304142Z",
     "shell.execute_reply.started": "2021-06-25T11:46:47.190100Z"
    },
    "papermill": {
     "duration": 0.484664,
     "end_time": "2021-06-25T12:04:07.304696",
     "exception": false,
     "start_time": "2021-06-25T12:04:06.820032",
     "status": "completed"
    },
    "tags": []
   },
   "outputs": [],
   "source": [
    "# getting cross validation score on count-vectorized features\n",
    "# getting cross validation score on tfidf processed features\n",
    "\n",
    "cv_score = sk.model_selection.cross_validate(model_sklearn_mnb, cv_X, y)\n",
    "\n",
    "tfidf_score = sk.model_selection.cross_validate(model_sklearn_mnb, tdidf_X, y)"
   ]
  },
  {
   "cell_type": "code",
   "execution_count": 20,
   "id": "nearby-reward",
   "metadata": {
    "execution": {
     "iopub.execute_input": "2021-06-25T12:04:07.344197Z",
     "iopub.status.busy": "2021-06-25T12:04:07.343691Z",
     "iopub.status.idle": "2021-06-25T12:04:07.357824Z",
     "shell.execute_reply": "2021-06-25T12:04:07.357248Z",
     "shell.execute_reply.started": "2021-06-25T11:54:09.129802Z"
    },
    "papermill": {
     "duration": 0.036295,
     "end_time": "2021-06-25T12:04:07.357972",
     "exception": false,
     "start_time": "2021-06-25T12:04:07.321677",
     "status": "completed"
    },
    "tags": []
   },
   "outputs": [
    {
     "data": {
      "text/html": [
       "<div>\n",
       "<style scoped>\n",
       "    .dataframe tbody tr th:only-of-type {\n",
       "        vertical-align: middle;\n",
       "    }\n",
       "\n",
       "    .dataframe tbody tr th {\n",
       "        vertical-align: top;\n",
       "    }\n",
       "\n",
       "    .dataframe thead th {\n",
       "        text-align: right;\n",
       "    }\n",
       "</style>\n",
       "<table border=\"1\" class=\"dataframe\">\n",
       "  <thead>\n",
       "    <tr style=\"text-align: right;\">\n",
       "      <th></th>\n",
       "      <th>fit_time</th>\n",
       "      <th>score_time</th>\n",
       "      <th>test_score</th>\n",
       "    </tr>\n",
       "  </thead>\n",
       "  <tbody>\n",
       "    <tr>\n",
       "      <th>CountVetorizer</th>\n",
       "      <td>0.039489</td>\n",
       "      <td>0.006490</td>\n",
       "      <td>0.983964</td>\n",
       "    </tr>\n",
       "    <tr>\n",
       "      <th>TfidfVectorizer</th>\n",
       "      <td>0.035864</td>\n",
       "      <td>0.006148</td>\n",
       "      <td>0.983964</td>\n",
       "    </tr>\n",
       "  </tbody>\n",
       "</table>\n",
       "</div>"
      ],
      "text/plain": [
       "                 fit_time  score_time  test_score\n",
       "CountVetorizer   0.039489    0.006490    0.983964\n",
       "TfidfVectorizer  0.035864    0.006148    0.983964"
      ]
     },
     "execution_count": 20,
     "metadata": {},
     "output_type": "execute_result"
    }
   ],
   "source": [
    "# checking the scores by putting them into a dataframe first\n",
    "\n",
    "sklearn_scores = pd.DataFrame([cv_score, tfidf_score], index=['CountVetorizer', 'TfidfVectorizer'])\n",
    "sklearn_scores = sklearn_scores.applymap(lambda x: x.mean())\n",
    "\n",
    "sklearn_scores"
   ]
  }
 ],
 "metadata": {
  "kernelspec": {
   "display_name": "Python 3",
   "language": "python",
   "name": "python3"
  },
  "language_info": {
   "codemirror_mode": {
    "name": "ipython",
    "version": 3
   },
   "file_extension": ".py",
   "mimetype": "text/x-python",
   "name": "python",
   "nbconvert_exporter": "python",
   "pygments_lexer": "ipython3",
   "version": "3.7.10"
  },
  "papermill": {
   "default_parameters": {},
   "duration": 541.141849,
   "end_time": "2021-06-25T12:04:09.756328",
   "environment_variables": {},
   "exception": null,
   "input_path": "__notebook__.ipynb",
   "output_path": "__notebook__.ipynb",
   "parameters": {},
   "start_time": "2021-06-25T11:55:08.614479",
   "version": "2.3.3"
  }
 },
 "nbformat": 4,
 "nbformat_minor": 5
}
